{
  "nbformat": 4,
  "nbformat_minor": 0,
  "metadata": {
    "colab": {
      "name": "Q1.ipynb",
      "provenance": [],
      "collapsed_sections": [],
      "include_colab_link": true
    },
    "kernelspec": {
      "name": "python3",
      "display_name": "Python 3"
    }
  },
  "cells": [
    {
      "cell_type": "markdown",
      "metadata": {
        "id": "view-in-github",
        "colab_type": "text"
      },
      "source": [
        "<a href=\"https://colab.research.google.com/github/Sham2112/SAiDL-Winter-Assignment-2019/blob/master/Q1.ipynb\" target=\"_parent\"><img src=\"https://colab.research.google.com/assets/colab-badge.svg\" alt=\"Open In Colab\"/></a>"
      ]
    },
    {
      "cell_type": "code",
      "metadata": {
        "id": "Y_OXu_kpFlzt",
        "colab_type": "code",
        "colab": {
          "base_uri": "https://localhost:8080/",
          "height": 134
        },
        "outputId": "243a7101-7e4e-4974-bc3f-aa4b01ad5add"
      },
      "source": [
        "!pip install batchup"
      ],
      "execution_count": 58,
      "outputs": [
        {
          "output_type": "stream",
          "text": [
            "Requirement already satisfied: batchup in /usr/local/lib/python3.6/dist-packages (0.2.3)\n",
            "Requirement already satisfied: tables in /usr/local/lib/python3.6/dist-packages (from batchup) (3.4.4)\n",
            "Requirement already satisfied: joblib in /usr/local/lib/python3.6/dist-packages (from batchup) (0.14.1)\n",
            "Requirement already satisfied: scipy in /usr/local/lib/python3.6/dist-packages (from batchup) (1.4.1)\n",
            "Requirement already satisfied: numpy in /usr/local/lib/python3.6/dist-packages (from batchup) (1.17.5)\n",
            "Requirement already satisfied: six in /usr/local/lib/python3.6/dist-packages (from batchup) (1.12.0)\n",
            "Requirement already satisfied: numexpr>=2.5.2 in /usr/local/lib/python3.6/dist-packages (from tables->batchup) (2.7.1)\n"
          ],
          "name": "stdout"
        }
      ]
    },
    {
      "cell_type": "code",
      "metadata": {
        "id": "vUgetyECElrl",
        "colab_type": "code",
        "colab": {}
      },
      "source": [
        "import numpy as np\n",
        "import matplotlib.pyplot as plt\n",
        "import time\n",
        "import torch\n",
        "from batchup import data_source\n",
        "from torchvision import datasets"
      ],
      "execution_count": 0,
      "outputs": []
    },
    {
      "cell_type": "code",
      "metadata": {
        "id": "jtjn-suxFg9i",
        "colab_type": "code",
        "colab": {}
      },
      "source": [
        "train_set = datasets.MNIST('./data', train=True, download=True)\n",
        "test_set = datasets.MNIST('./data', train=False, download=True)\n",
        "\n",
        "train_images = train_set.data.numpy()\n",
        "train_labels = train_set.targets.numpy()\n",
        "\n",
        "test_images = test_set.data.numpy()\n",
        "test_labels = test_set.targets.numpy()"
      ],
      "execution_count": 0,
      "outputs": []
    },
    {
      "cell_type": "code",
      "metadata": {
        "id": "1vNw29p6Fsrf",
        "colab_type": "code",
        "colab": {
          "base_uri": "https://localhost:8080/",
          "height": 84
        },
        "outputId": "e48000bb-5004-40ba-9223-ac6bb2a50859"
      },
      "source": [
        "print(train_images.shape)\n",
        "print(train_labels.shape)\n",
        "print(test_images.shape)\n",
        "print(test_labels.shape)"
      ],
      "execution_count": 61,
      "outputs": [
        {
          "output_type": "stream",
          "text": [
            "(60000, 28, 28)\n",
            "(60000,)\n",
            "(10000, 28, 28)\n",
            "(10000,)\n"
          ],
          "name": "stdout"
        }
      ]
    },
    {
      "cell_type": "code",
      "metadata": {
        "id": "RfjxDq9Oggrt",
        "colab_type": "code",
        "colab": {}
      },
      "source": [
        "def one_hot(x):\n",
        "    return np.array(x[:, None] == np.arange(10), dtype=np.float32)\n",
        "\n",
        "trainimages = np.transpose(np.reshape(train_images, (train_images.shape[0], -1)))\n",
        "trainlabels = np.transpose(one_hot(train_labels))\n",
        "\n",
        "testimages = np.transpose(np.reshape(test_images, (test_images.shape[0], -1)))\n",
        "testlabels = np.transpose(one_hot(test_labels))"
      ],
      "execution_count": 0,
      "outputs": []
    },
    {
      "cell_type": "code",
      "metadata": {
        "id": "hwD8eJjlg3dj",
        "colab_type": "code",
        "colab": {
          "base_uri": "https://localhost:8080/",
          "height": 84
        },
        "outputId": "a38756af-0cb9-49ad-edbb-f79949d11677"
      },
      "source": [
        "print(trainimages.shape)\n",
        "print(trainlabels.shape)\n",
        "print(testimages.shape)\n",
        "print(testlabels.shape)"
      ],
      "execution_count": 63,
      "outputs": [
        {
          "output_type": "stream",
          "text": [
            "(784, 60000)\n",
            "(10, 60000)\n",
            "(784, 10000)\n",
            "(10, 10000)\n"
          ],
          "name": "stdout"
        }
      ]
    },
    {
      "cell_type": "code",
      "metadata": {
        "id": "wKzPLFiOFzX1",
        "colab_type": "code",
        "colab": {}
      },
      "source": [
        "n_x = 784\n",
        "n_h = 350\n",
        "n_y = 10\n",
        "\n",
        "def init_params(n_x, n_h, n_y):\n",
        "    W1 = np.random.randn(n_h,n_x) * 0.01\n",
        "    b1 = np.zeros((n_h,1))\n",
        "    W2 = np.random.randn(n_y,n_h) * 0.01\n",
        "    b2 = np.zeros((n_y,1))\n",
        "\n",
        "    parameters = {\"W1\": W1,\n",
        "                  \"b1\": b1,\n",
        "                  \"W2\": W2,\n",
        "                  \"b2\": b2}\n",
        "    \n",
        "    return parameters"
      ],
      "execution_count": 0,
      "outputs": []
    },
    {
      "cell_type": "code",
      "metadata": {
        "id": "wQu0ZJ_YF67w",
        "colab_type": "code",
        "colab": {}
      },
      "source": [
        "def softmax(X):\n",
        "    e = np.exp(X)\n",
        "    return e/np.sum(e, axis=0)\n",
        "\n",
        "def forward(X, parameters):\n",
        "    \n",
        "    W1 = parameters[\"W1\"]\n",
        "    b1 = parameters[\"b1\"]\n",
        "    W2 = parameters[\"W2\"]\n",
        "    b2 = parameters[\"b2\"]\n",
        "\n",
        "    Z1 = np.dot(W1,X) + b1\n",
        "    A1 = np.tanh(Z1)\n",
        "    Z2 = np.dot(W2,A1) + b2\n",
        "    A2 = softmax(Z2)\n",
        "\n",
        "    cache = {\"Z1\": Z1,\n",
        "             \"A1\": A1,\n",
        "             \"Z2\": Z2,\n",
        "             \"A2\": A2}\n",
        "    \n",
        "    return A2, cache"
      ],
      "execution_count": 0,
      "outputs": []
    },
    {
      "cell_type": "code",
      "metadata": {
        "id": "Jn3PKYd68es_",
        "colab_type": "code",
        "colab": {}
      },
      "source": [
        "def cross_entropy_loss(predictions, targets):\n",
        "    m = targets.shape[1]\n",
        "    ce = -np.sum(targets*np.log(predictions))\n",
        "    return float(np.squeeze(ce))/m"
      ],
      "execution_count": 0,
      "outputs": []
    },
    {
      "cell_type": "code",
      "metadata": {
        "id": "cNucDjf6GBcQ",
        "colab_type": "code",
        "colab": {}
      },
      "source": [
        "def backward(parameters, X, Y, cache):\n",
        "    m = X.shape[1]\n",
        "\n",
        "    W1 = parameters[\"W1\"]\n",
        "    W2 = parameters[\"W2\"]\n",
        "    A1 = cache[\"A1\"]\n",
        "    A2 = cache[\"A2\"]\n",
        "\n",
        "    dZ2 = A2-Y\n",
        "    dW2 = np.dot(dZ2, A1.T)/m\n",
        "    db2 = np.sum(dZ2, axis=1, keepdims=True)/m\n",
        "    dZ1 = np.dot(W2.T, dZ2) * (1-np.power(A1,2))\n",
        "    dW1 = np.dot(dZ1, X.T)/m\n",
        "    db1 = np.sum(dZ1, axis=1, keepdims=True)/m\n",
        "\n",
        "\n",
        "    grads = {\"dW1\": dW1,\n",
        "             \"db1\": db1,\n",
        "             \"dW2\": dW2,\n",
        "             \"db2\": db2}\n",
        "    \n",
        "    return grads"
      ],
      "execution_count": 0,
      "outputs": []
    },
    {
      "cell_type": "code",
      "metadata": {
        "id": "khoxkwJV-hv-",
        "colab_type": "code",
        "colab": {}
      },
      "source": [
        "def GradientDescentUpdate(parameters, grads, learning_rate = 0.1):\n",
        "    W1 = parameters[\"W1\"]\n",
        "    b1 = parameters[\"b1\"]\n",
        "    W2 = parameters[\"W2\"]\n",
        "    b2 = parameters[\"b2\"]\n",
        "\n",
        "    dW1 = grads[\"dW1\"]\n",
        "    db1 = grads[\"db1\"]\n",
        "    dW2 = grads[\"dW2\"]\n",
        "    db2 = grads[\"db2\"]\n",
        "\n",
        "    W1 = W1 - (learning_rate*dW1)\n",
        "    b1 = b1 - (learning_rate*db1)\n",
        "    W2 = W2 - (learning_rate*dW2)\n",
        "    b2 = b2 - (learning_rate*db2)\n",
        "\n",
        "    parameters = {\"W1\": W1,\n",
        "                  \"b1\": b1,\n",
        "                  \"W2\": W2,\n",
        "                  \"b2\": b2}\n",
        "    \n",
        "    return parameters"
      ],
      "execution_count": 0,
      "outputs": []
    },
    {
      "cell_type": "code",
      "metadata": {
        "id": "PSC4iz_bjRO7",
        "colab_type": "code",
        "colab": {}
      },
      "source": [
        "train_ds = data_source.ArrayDataSource([trainimages.T, trainlabels.T])\n",
        "test_ds = data_source.ArrayDataSource([testimages.T, testlabels.T])"
      ],
      "execution_count": 0,
      "outputs": []
    },
    {
      "cell_type": "code",
      "metadata": {
        "id": "ATJXCglWkyKa",
        "colab_type": "code",
        "colab": {}
      },
      "source": [
        "xo, yo = next(iter(train_ds.batch_iterator(batch_size = 64, shuffle=True)))"
      ],
      "execution_count": 0,
      "outputs": []
    },
    {
      "cell_type": "code",
      "metadata": {
        "id": "KiuuWyK4IoNy",
        "colab_type": "code",
        "colab": {
          "base_uri": "https://localhost:8080/",
          "height": 34
        },
        "outputId": "24fc2a5d-bfc1-491b-d966-e9f6019418ea"
      },
      "source": [
        "xo.shape"
      ],
      "execution_count": 105,
      "outputs": [
        {
          "output_type": "execute_result",
          "data": {
            "text/plain": [
              "(64, 784)"
            ]
          },
          "metadata": {
            "tags": []
          },
          "execution_count": 105
        }
      ]
    },
    {
      "cell_type": "code",
      "metadata": {
        "id": "5ySzhZfBOfFU",
        "colab_type": "code",
        "colab": {}
      },
      "source": [
        "parameters1 = init_params(n_x, n_h, n_y)"
      ],
      "execution_count": 0,
      "outputs": []
    },
    {
      "cell_type": "code",
      "metadata": {
        "id": "crtYcQ_YIqsy",
        "colab_type": "code",
        "colab": {}
      },
      "source": [
        "#Stochastic gradient descent\n",
        "epochs = 25\n",
        "\n",
        "def sgd_nn(dataloader,parameters, epochs):\n",
        "    start_time = time.time()\n",
        "    losses = []\n",
        "    for e in range(epochs):\n",
        "        for X, Y in dataloader.batch_iterator(batch_size = 64, shuffle=True):\n",
        "            X = X.T\n",
        "            Y = Y.T\n",
        "            A2, cache = forward(X, parameters)\n",
        "            loss = cross_entropy_loss(A2, Y)\n",
        "            losses.append(loss)\n",
        "            grads = backward(parameters, X, Y, cache)\n",
        "            parameters = GradientDescentUpdate(parameters, grads, learning_rate = 0.001)\n",
        "\n",
        "        print(\"Epoch: {} Loss {}\".format(e, loss))\n",
        "\n",
        "    train_time = time.time()-start_time\n",
        "    return parameters, train_time, losses"
      ],
      "execution_count": 0,
      "outputs": []
    },
    {
      "cell_type": "code",
      "metadata": {
        "id": "cqD14mnZNMhF",
        "colab_type": "code",
        "colab": {
          "base_uri": "https://localhost:8080/",
          "height": 437
        },
        "outputId": "6ce807d9-9c22-4575-c625-add70136045f"
      },
      "source": [
        "parameters1, train_time1, losses1 = sgd_nn(train_ds, parameters1, epochs)"
      ],
      "execution_count": 117,
      "outputs": [
        {
          "output_type": "stream",
          "text": [
            "Epoch: 0 Loss 0.39711211806538893\n",
            "Epoch: 1 Loss 0.3744861063187783\n",
            "Epoch: 2 Loss 0.4146220456620112\n",
            "Epoch: 3 Loss 0.1431468095430286\n",
            "Epoch: 4 Loss 0.11739589977362908\n",
            "Epoch: 5 Loss 0.18828769425592481\n",
            "Epoch: 6 Loss 0.2071981910619422\n",
            "Epoch: 7 Loss 0.11470620861555755\n",
            "Epoch: 8 Loss 0.09709473341329665\n",
            "Epoch: 9 Loss 0.23856538151831574\n",
            "Epoch: 10 Loss 0.06821372129980983\n",
            "Epoch: 11 Loss 0.11008710296815374\n",
            "Epoch: 12 Loss 0.08435317732312328\n",
            "Epoch: 13 Loss 0.17070315435956585\n",
            "Epoch: 14 Loss 0.06257518803269382\n",
            "Epoch: 15 Loss 0.32238591370814706\n",
            "Epoch: 16 Loss 0.027016656087788082\n",
            "Epoch: 17 Loss 0.06994451264555368\n",
            "Epoch: 18 Loss 0.19552268986903126\n",
            "Epoch: 19 Loss 0.07249462242062557\n",
            "Epoch: 20 Loss 0.06640558898288289\n",
            "Epoch: 21 Loss 0.20975866213979427\n",
            "Epoch: 22 Loss 0.11017854907807254\n",
            "Epoch: 23 Loss 0.09161116120878188\n",
            "Epoch: 24 Loss 0.23649681544817086\n"
          ],
          "name": "stdout"
        }
      ]
    },
    {
      "cell_type": "code",
      "metadata": {
        "id": "XxcGLjxQNWGN",
        "colab_type": "code",
        "colab": {
          "base_uri": "https://localhost:8080/",
          "height": 298
        },
        "outputId": "2d38708a-b4e3-41aa-95ef-8b69b43db486"
      },
      "source": [
        "print(\"Time taken using SGD: \", train_time1)\n",
        "plt.plot(losses1)"
      ],
      "execution_count": 118,
      "outputs": [
        {
          "output_type": "stream",
          "text": [
            "Time taken using SGD:  210.78013968467712\n"
          ],
          "name": "stdout"
        },
        {
          "output_type": "execute_result",
          "data": {
            "text/plain": [
              "[<matplotlib.lines.Line2D at 0x7f8decd61860>]"
            ]
          },
          "metadata": {
            "tags": []
          },
          "execution_count": 118
        },
        {
          "output_type": "display_data",
          "data": {
            "image/png": "[encoded data removed]",
            "text/plain": [
              "<Figure size 432x288 with 1 Axes>"
            ]
          },
          "metadata": {
            "tags": []
          }
        }
      ]
    },
    {
      "cell_type": "code",
      "metadata": {
        "id": "9w976EeuO-_N",
        "colab_type": "code",
        "colab": {}
      },
      "source": [
        "parameters2 = init_params(n_x, n_h, n_y)"
      ],
      "execution_count": 0,
      "outputs": []
    },
    {
      "cell_type": "code",
      "metadata": {
        "id": "QyUNf8iXPZ6s",
        "colab_type": "code",
        "colab": {}
      },
      "source": [
        "def init_vel(parameters):\n",
        "    v = {}\n",
        "    v[\"dW1\"] = np.zeros((parameters['W1'].shape[0],parameters['W1'].shape[1]))\n",
        "    v[\"db1\"] = np.zeros((parameters['b1'].shape[0],parameters['b1'].shape[1]))\n",
        "    v[\"dW2\"] = np.zeros((parameters['W2'].shape[0],parameters['W2'].shape[1]))\n",
        "    v[\"db2\"] = np.zeros((parameters['b2'].shape[0],parameters['b2'].shape[1]))\n",
        "    \n",
        "    return v"
      ],
      "execution_count": 0,
      "outputs": []
    },
    {
      "cell_type": "code",
      "metadata": {
        "id": "M0yYscq8QvCG",
        "colab_type": "code",
        "colab": {}
      },
      "source": [
        "v = init_vel(parameters2)"
      ],
      "execution_count": 0,
      "outputs": []
    },
    {
      "cell_type": "code",
      "metadata": {
        "id": "cD1oQG_OQXiD",
        "colab_type": "code",
        "colab": {}
      },
      "source": [
        "def momentum(parameters, grads, v, beta, lr):\n",
        "    v[\"dW1\"] = (beta*v[\"dW1\"]) + ((1-beta)*grads[\"dW1\"])\n",
        "    v[\"db1\"] = (beta*v[\"db1\"]) + ((1-beta)*grads[\"db1\"])\n",
        "    v[\"dW2\"] = (beta*v[\"dW2\"]) + ((1-beta)*grads[\"dW2\"])\n",
        "    v[\"db2\"] = (beta*v[\"db2\"]) + ((1-beta)*grads[\"db2\"])\n",
        "\n",
        "    parameters[\"W1\"] = parameters[\"W1\"] - lr*v[\"dW1\"]\n",
        "    parameters[\"b1\"] = parameters[\"b1\"] - lr*v[\"db1\"]\n",
        "    parameters[\"W2\"] = parameters[\"W2\"] - lr*v[\"dW2\"]\n",
        "    parameters[\"b2\"] = parameters[\"b2\"] - lr*v[\"db2\"]\n",
        "\n",
        "    return parameters, v"
      ],
      "execution_count": 0,
      "outputs": []
    },
    {
      "cell_type": "code",
      "metadata": {
        "id": "TtvgbQ7GSZ4H",
        "colab_type": "code",
        "colab": {}
      },
      "source": [
        "#Momentum\n",
        "epochs = 25\n",
        "\n",
        "def momentum_nn(dataloader,parameters, epochs, v):\n",
        "    start_time = time.time()\n",
        "    losses = []\n",
        "    for e in range(epochs):\n",
        "        for X, Y in dataloader.batch_iterator(batch_size = 64, shuffle=True):\n",
        "            X = X.T\n",
        "            Y = Y.T\n",
        "            A2, cache = forward(X, parameters)\n",
        "            loss = cross_entropy_loss(A2, Y)\n",
        "            losses.append(loss)\n",
        "            grads = backward(parameters, X, Y, cache)\n",
        "            parameters , v = momentum(parameters, grads, v,beta=0.9, lr = 0.001)\n",
        "\n",
        "        print(\"Epoch: {} Loss {}\".format(e, loss))\n",
        "\n",
        "    train_time = time.time()-start_time\n",
        "    return parameters, train_time, losses"
      ],
      "execution_count": 0,
      "outputs": []
    },
    {
      "cell_type": "code",
      "metadata": {
        "id": "vZBktD7iSvOV",
        "colab_type": "code",
        "colab": {
          "base_uri": "https://localhost:8080/",
          "height": 437
        },
        "outputId": "bdb6359e-1920-492e-eefd-f65dffde3c5e"
      },
      "source": [
        "parameters2, train_time2, losses2 = momentum_nn(train_ds, parameters2, epochs, v)"
      ],
      "execution_count": 127,
      "outputs": [
        {
          "output_type": "stream",
          "text": [
            "Epoch: 0 Loss 0.5058047692332382\n",
            "Epoch: 1 Loss 0.4233823999216262\n",
            "Epoch: 2 Loss 0.34607753363229454\n",
            "Epoch: 3 Loss 0.2081930640077501\n",
            "Epoch: 4 Loss 0.30325618349083067\n",
            "Epoch: 5 Loss 0.08989886508494717\n",
            "Epoch: 6 Loss 0.22766009740993903\n",
            "Epoch: 7 Loss 0.512676410332664\n",
            "Epoch: 8 Loss 0.08233436277387043\n",
            "Epoch: 9 Loss 0.10776370487447329\n",
            "Epoch: 10 Loss 0.25267724976798467\n",
            "Epoch: 11 Loss 0.11473273508858581\n",
            "Epoch: 12 Loss 0.17713620213919803\n",
            "Epoch: 13 Loss 0.12462636580328354\n",
            "Epoch: 14 Loss 0.22834442505571836\n",
            "Epoch: 15 Loss 0.11781289583641663\n",
            "Epoch: 16 Loss 0.09637210212673754\n",
            "Epoch: 17 Loss 0.1132540214685004\n",
            "Epoch: 18 Loss 0.1229701820169207\n",
            "Epoch: 19 Loss 0.09413838597666623\n",
            "Epoch: 20 Loss 0.03785896910293099\n",
            "Epoch: 21 Loss 0.1733254602806692\n",
            "Epoch: 22 Loss 0.05919514979840687\n",
            "Epoch: 23 Loss 0.07722988176980136\n",
            "Epoch: 24 Loss 0.085451325562548\n"
          ],
          "name": "stdout"
        }
      ]
    },
    {
      "cell_type": "code",
      "metadata": {
        "id": "zkJcemQKUlTI",
        "colab_type": "code",
        "colab": {
          "base_uri": "https://localhost:8080/",
          "height": 298
        },
        "outputId": "7f0eda31-9fb6-46f6-ace2-de146b8d6a40"
      },
      "source": [
        "print(\"training time: \", train_time2)\n",
        "plt.plot(losses2)"
      ],
      "execution_count": 128,
      "outputs": [
        {
          "output_type": "stream",
          "text": [
            "training time:  240.2959225177765\n"
          ],
          "name": "stdout"
        },
        {
          "output_type": "execute_result",
          "data": {
            "text/plain": [
              "[<matplotlib.lines.Line2D at 0x7f8decd61198>]"
            ]
          },
          "metadata": {
            "tags": []
          },
          "execution_count": 128
        },
        {
          "output_type": "display_data",
          "data": {
            "image/png": "[encoded data removed]",
            "text/plain": [
              "<Figure size 432x288 with 1 Axes>"
            ]
          },
          "metadata": {
            "tags": []
          }
        }
      ]
    },
    {
      "cell_type": "code",
      "metadata": {
        "id": "P9_NtIrWTdqy",
        "colab_type": "code",
        "colab": {}
      },
      "source": [
        "parameters3 = init_params(n_x, n_h, n_y)"
      ],
      "execution_count": 0,
      "outputs": []
    },
    {
      "cell_type": "code",
      "metadata": {
        "id": "RMv1hBUiUtY3",
        "colab_type": "code",
        "colab": {}
      },
      "source": [
        "def init_s(parameters):\n",
        "    s = {}\n",
        "    s[\"dW1\"] = np.zeros((parameters['W1'].shape[0],parameters['W1'].shape[1]))\n",
        "    s[\"db1\"] = np.zeros((parameters['b1'].shape[0],parameters['b1'].shape[1]))\n",
        "    s[\"dW2\"] = np.zeros((parameters['W2'].shape[0],parameters['W2'].shape[1]))\n",
        "    s[\"db2\"] = np.zeros((parameters['b2'].shape[0],parameters['b2'].shape[1]))\n",
        "    \n",
        "    return s"
      ],
      "execution_count": 0,
      "outputs": []
    },
    {
      "cell_type": "code",
      "metadata": {
        "id": "EVZEj4lSVAb3",
        "colab_type": "code",
        "colab": {}
      },
      "source": [
        "s = init_s(parameters2)"
      ],
      "execution_count": 0,
      "outputs": []
    },
    {
      "cell_type": "code",
      "metadata": {
        "id": "Z0GMYkQCVGxw",
        "colab_type": "code",
        "colab": {}
      },
      "source": [
        "def RMSProp(parameters, grads, s, beta, lr):\n",
        "    s[\"dW1\"] = (beta*s[\"dW1\"]) + ((1-beta)*np.square(grads[\"dW1\"]))\n",
        "    s[\"db1\"] = (beta*s[\"db1\"]) + ((1-beta)*np.square(grads[\"db1\"]))\n",
        "    s[\"dW2\"] = (beta*s[\"dW2\"]) + ((1-beta)*np.square(grads[\"dW2\"]))\n",
        "    s[\"db2\"] = (beta*s[\"db2\"]) + ((1-beta)*np.square(grads[\"db2\"]))\n",
        "\n",
        "    parameters[\"W1\"] = parameters[\"W1\"] - (lr*grads[\"dW1\"]/(np.sqrt(s['dW1']) + 1e-8))\n",
        "    parameters[\"b1\"] = parameters[\"b1\"] - (lr*grads[\"db1\"]/(np.sqrt(s['db1']) + 1e-8))\n",
        "    parameters[\"W2\"] = parameters[\"W2\"] - (lr*grads[\"dW2\"]/(np.sqrt(s['dW2']) + 1e-8))\n",
        "    parameters[\"b2\"] = parameters[\"b2\"] - (lr*grads[\"db2\"]/(np.sqrt(s['db2']) + 1e-8))\n",
        "\n",
        "    return parameters, s"
      ],
      "execution_count": 0,
      "outputs": []
    },
    {
      "cell_type": "code",
      "metadata": {
        "id": "w10vGkv4YEmD",
        "colab_type": "code",
        "colab": {}
      },
      "source": [
        "#RMSProp\n",
        "epochs = 25\n",
        "\n",
        "def rmsprop_nn(dataloader,parameters, epochs, s):\n",
        "    start_time = time.time()\n",
        "    losses = []\n",
        "    for e in range(epochs):\n",
        "        for X, Y in dataloader.batch_iterator(batch_size = 64, shuffle=True):\n",
        "            X = X.T\n",
        "            Y = Y.T\n",
        "            A2, cache = forward(X, parameters)\n",
        "            loss = cross_entropy_loss(A2, Y)\n",
        "            losses.append(loss)\n",
        "            grads = backward(parameters, X, Y, cache)\n",
        "            parameters , v = RMSProp(parameters, grads, s , beta=0.999, lr = 0.0003)\n",
        "\n",
        "        print(\"Epoch: {} Loss {}\".format(e, loss))\n",
        "\n",
        "    train_time = time.time()-start_time\n",
        "    return parameters, train_time, losses"
      ],
      "execution_count": 0,
      "outputs": []
    },
    {
      "cell_type": "code",
      "metadata": {
        "id": "7LfyiMe0YyAR",
        "colab_type": "code",
        "colab": {
          "base_uri": "https://localhost:8080/",
          "height": 437
        },
        "outputId": "56eebf4e-8ae4-4fd1-c58e-35ea6ccc3754"
      },
      "source": [
        "parameters3, train_time3, losses3 = rmsprop_nn(train_ds, parameters3, epochs, s)"
      ],
      "execution_count": 146,
      "outputs": [
        {
          "output_type": "stream",
          "text": [
            "Epoch: 0 Loss 0.38013931336113926\n",
            "Epoch: 1 Loss 0.20376871519821815\n",
            "Epoch: 2 Loss 0.2880707038319885\n",
            "Epoch: 3 Loss 0.44979599576013735\n",
            "Epoch: 4 Loss 0.11139193097902877\n",
            "Epoch: 5 Loss 0.1837869818934954\n",
            "Epoch: 6 Loss 0.18253426210844537\n",
            "Epoch: 7 Loss 0.20930235089297627\n",
            "Epoch: 8 Loss 0.06321435074922832\n",
            "Epoch: 9 Loss 0.1765573803375068\n",
            "Epoch: 10 Loss 0.25675273296092227\n",
            "Epoch: 11 Loss 0.060613009192882886\n",
            "Epoch: 12 Loss 0.19724151305593407\n",
            "Epoch: 13 Loss 0.49707644219217456\n",
            "Epoch: 14 Loss 0.1519617753572879\n",
            "Epoch: 15 Loss 0.3291175786762429\n",
            "Epoch: 16 Loss 0.1369129834100401\n",
            "Epoch: 17 Loss 0.24112296459970628\n",
            "Epoch: 18 Loss 0.18578700214566393\n",
            "Epoch: 19 Loss 0.04156562602206419\n",
            "Epoch: 20 Loss 0.10456993647395776\n",
            "Epoch: 21 Loss 0.3474047332065453\n",
            "Epoch: 22 Loss 0.03882068157462656\n",
            "Epoch: 23 Loss 0.027107030392744105\n",
            "Epoch: 24 Loss 0.10494654804678594\n"
          ],
          "name": "stdout"
        }
      ]
    },
    {
      "cell_type": "code",
      "metadata": {
        "id": "wYp3ufKUZAq2",
        "colab_type": "code",
        "colab": {
          "base_uri": "https://localhost:8080/",
          "height": 298
        },
        "outputId": "1d02a714-d4de-4125-966b-4cb7a65fa302"
      },
      "source": [
        "print(\"Time taken to train using RMSProp: \", train_time3)\n",
        "plt.plot(losses3)"
      ],
      "execution_count": 147,
      "outputs": [
        {
          "output_type": "stream",
          "text": [
            "Time taken to train using RMSProp:  232.53596377372742\n"
          ],
          "name": "stdout"
        },
        {
          "output_type": "execute_result",
          "data": {
            "text/plain": [
              "[<matplotlib.lines.Line2D at 0x7f8decbb7588>]"
            ]
          },
          "metadata": {
            "tags": []
          },
          "execution_count": 147
        },
        {
          "output_type": "display_data",
          "data": {
            "image/png": "[encoded data removed]",
            "text/plain": [
              "<Figure size 432x288 with 1 Axes>"
            ]
          },
          "metadata": {
            "tags": []
          }
        }
      ]
    },
    {
      "cell_type": "code",
      "metadata": {
        "id": "A-kwVvuChIJ-",
        "colab_type": "code",
        "colab": {
          "base_uri": "https://localhost:8080/",
          "height": 282
        },
        "outputId": "fe227031-488c-4d6c-d6cf-1c196087551b"
      },
      "source": [
        "plt.plot(losses3[0:500])"
      ],
      "execution_count": 163,
      "outputs": [
        {
          "output_type": "execute_result",
          "data": {
            "text/plain": [
              "[<matplotlib.lines.Line2D at 0x7f8df0127390>]"
            ]
          },
          "metadata": {
            "tags": []
          },
          "execution_count": 163
        },
        {
          "output_type": "display_data",
          "data": {
            "image/png": "[encoded data removed]",
            "text/plain": [
              "<Figure size 432x288 with 1 Axes>"
            ]
          },
          "metadata": {
            "tags": []
          }
        }
      ]
    },
    {
      "cell_type": "code",
      "metadata": {
        "id": "5NuQFt8tai58",
        "colab_type": "code",
        "colab": {}
      },
      "source": [
        "#till now RMSProp has converged in the shortest period of time"
      ],
      "execution_count": 0,
      "outputs": []
    },
    {
      "cell_type": "code",
      "metadata": {
        "id": "PZ6aQ-dnauW2",
        "colab_type": "code",
        "colab": {}
      },
      "source": [
        "parameters4 = init_params(n_x, n_h, n_y)"
      ],
      "execution_count": 0,
      "outputs": []
    },
    {
      "cell_type": "code",
      "metadata": {
        "id": "hod-yl8ja3Rd",
        "colab_type": "code",
        "colab": {}
      },
      "source": [
        "v1 = init_vel(parameters4)\n",
        "s1 = init_s(parameters4)"
      ],
      "execution_count": 0,
      "outputs": []
    },
    {
      "cell_type": "code",
      "metadata": {
        "id": "kUEUgvaebF1Q",
        "colab_type": "code",
        "colab": {}
      },
      "source": [
        "def Adam(parameters, grads, v, s, beta1, beta2, t, lr):\n",
        "    v[\"dW1\"] = (beta1*v[\"dW1\"]) + ((1-beta1)*grads[\"dW1\"])\n",
        "    v[\"db1\"] = (beta1*v[\"db1\"]) + ((1-beta1)*grads[\"db1\"])\n",
        "    v[\"dW2\"] = (beta1*v[\"dW2\"]) + ((1-beta1)*grads[\"dW2\"])\n",
        "    v[\"db2\"] = (beta1*v[\"db2\"]) + ((1-beta1)*grads[\"db2\"])\n",
        "\n",
        "    s[\"dW1\"] = (beta2*s[\"dW1\"]) + ((1-beta2)*np.square(grads[\"dW1\"]))\n",
        "    s[\"db1\"] = (beta2*s[\"db1\"]) + ((1-beta2)*np.square(grads[\"db1\"]))\n",
        "    s[\"dW2\"] = (beta2*s[\"dW2\"]) + ((1-beta2)*np.square(grads[\"dW2\"]))\n",
        "    s[\"db2\"] = (beta2*s[\"db2\"]) + ((1-beta2)*np.square(grads[\"db2\"]))\n",
        "\n",
        "    v_corrected = {}\n",
        "    s_corrected = {}\n",
        "\n",
        "    v_corrected[\"dW1\"] = v[\"dW1\"]/(1-beta1**t)\n",
        "    v_corrected[\"db1\"] = v['db1']/(1-beta1**t)\n",
        "    v_corrected[\"dW2\"] = v['dW2']/(1-beta1**t)\n",
        "    v_corrected[\"db2\"] = v['db2']/(1-beta1**t)\n",
        "\n",
        "    s_corrected[\"dW1\"] = s[\"dW1\"]/(1-beta2**t)\n",
        "    s_corrected[\"db1\"] = s['db1']/(1-beta2**t)\n",
        "    s_corrected[\"dW2\"] = s['dW2']/(1-beta2**t)\n",
        "    s_corrected[\"db2\"] = s['db2']/(1-beta2**t)\n",
        "\n",
        "    parameters[\"W1\"] = parameters[\"W1\"] - (lr*v_corrected[\"dW1\"]/(np.sqrt(s_corrected['dW1']) + 1e-8))\n",
        "    parameters[\"b1\"] = parameters[\"b1\"] - (lr*v_corrected[\"db1\"]/(np.sqrt(s_corrected['db1']) + 1e-8))\n",
        "    parameters[\"W2\"] = parameters[\"W2\"] - (lr*v_corrected[\"dW2\"]/(np.sqrt(s_corrected['dW2']) + 1e-8))\n",
        "    parameters[\"b2\"] = parameters[\"b2\"] - (lr*v_corrected[\"db2\"]/(np.sqrt(s_corrected['db2']) + 1e-8))\n",
        "\n",
        "    return parameters, v, s"
      ],
      "execution_count": 0,
      "outputs": []
    },
    {
      "cell_type": "code",
      "metadata": {
        "id": "X-7rIV79d69N",
        "colab_type": "code",
        "colab": {}
      },
      "source": [
        "#Adam\n",
        "epochs = 25\n",
        "\n",
        "def adam_nn(dataloader,parameters, epochs, v, s):\n",
        "    start_time = time.time()\n",
        "    losses = []\n",
        "    for e in range(epochs):\n",
        "        for X, Y in dataloader.batch_iterator(batch_size = 64, shuffle=True):\n",
        "            X = X.T\n",
        "            Y = Y.T\n",
        "            A2, cache = forward(X, parameters)\n",
        "            loss = cross_entropy_loss(A2, Y)\n",
        "            losses.append(loss)\n",
        "            grads = backward(parameters, X, Y, cache)\n",
        "            parameters , v , s = Adam(parameters, grads, v, s, beta1=0.9, beta2=0.999, t=2, lr = 0.0003)\n",
        "\n",
        "        print(\"Epoch: {} Loss {}\".format(e, loss))\n",
        "\n",
        "    train_time = time.time()-start_time\n",
        "    return parameters, train_time, losses"
      ],
      "execution_count": 0,
      "outputs": []
    },
    {
      "cell_type": "code",
      "metadata": {
        "id": "RzDng0rCefGC",
        "colab_type": "code",
        "colab": {
          "base_uri": "https://localhost:8080/",
          "height": 437
        },
        "outputId": "8325235b-439c-4f8a-bca3-f2fbdbadf5ff"
      },
      "source": [
        "parameters4, train_time4, losses4 = adam_nn(train_ds, parameters4, epochs, v1, s1)"
      ],
      "execution_count": 160,
      "outputs": [
        {
          "output_type": "stream",
          "text": [
            "Epoch: 0 Loss 0.19150445800128377\n",
            "Epoch: 1 Loss 0.16189545181330295\n",
            "Epoch: 2 Loss 0.10328060648012699\n",
            "Epoch: 3 Loss 0.16064540991082266\n",
            "Epoch: 4 Loss 0.12259348922358254\n",
            "Epoch: 5 Loss 0.07086123338692946\n",
            "Epoch: 6 Loss 0.04263452090285407\n",
            "Epoch: 7 Loss 0.06328543747175809\n",
            "Epoch: 8 Loss 0.13891731199557053\n",
            "Epoch: 9 Loss 0.04761542695049572\n",
            "Epoch: 10 Loss 0.09162180563669975\n",
            "Epoch: 11 Loss 0.32186954754811914\n",
            "Epoch: 12 Loss 0.07032517903634727\n",
            "Epoch: 13 Loss 0.03732044079253471\n",
            "Epoch: 14 Loss 0.173188033010754\n",
            "Epoch: 15 Loss 0.11988950574713961\n",
            "Epoch: 16 Loss 0.055560747555536895\n",
            "Epoch: 17 Loss 0.08707754780603552\n",
            "Epoch: 18 Loss 0.16090766925034009\n",
            "Epoch: 19 Loss 0.02947253800720987\n",
            "Epoch: 20 Loss 0.01982588703545203\n",
            "Epoch: 21 Loss 0.06520429807961803\n",
            "Epoch: 22 Loss 0.03420789934698157\n",
            "Epoch: 23 Loss 0.06168908169480088\n",
            "Epoch: 24 Loss 0.03698816660504376\n"
          ],
          "name": "stdout"
        }
      ]
    },
    {
      "cell_type": "code",
      "metadata": {
        "id": "11nr9Gj5esZH",
        "colab_type": "code",
        "colab": {
          "base_uri": "https://localhost:8080/",
          "height": 298
        },
        "outputId": "4320c9c6-e916-462f-adf8-da31c3bbb5aa"
      },
      "source": [
        "print(\"Time taken by Adam: \", train_time4)\n",
        "plt.plot(losses4)"
      ],
      "execution_count": 161,
      "outputs": [
        {
          "output_type": "stream",
          "text": [
            "Time taken by Adam:  358.88079738616943\n"
          ],
          "name": "stdout"
        },
        {
          "output_type": "execute_result",
          "data": {
            "text/plain": [
              "[<matplotlib.lines.Line2D at 0x7f8dec8d27f0>]"
            ]
          },
          "metadata": {
            "tags": []
          },
          "execution_count": 161
        },
        {
          "output_type": "display_data",
          "data": {
            "image/png": "[encoded data removed]",
            "text/plain": [
              "<Figure size 432x288 with 1 Axes>"
            ]
          },
          "metadata": {
            "tags": []
          }
        }
      ]
    },
    {
      "cell_type": "code",
      "metadata": {
        "id": "XI901HHhhEKj",
        "colab_type": "code",
        "colab": {
          "base_uri": "https://localhost:8080/",
          "height": 282
        },
        "outputId": "eab61623-5b3f-481e-e77b-0af9629b7223"
      },
      "source": [
        "plt.plot(losses4[0:500])"
      ],
      "execution_count": 165,
      "outputs": [
        {
          "output_type": "execute_result",
          "data": {
            "text/plain": [
              "[<matplotlib.lines.Line2D at 0x7f8deff42f98>]"
            ]
          },
          "metadata": {
            "tags": []
          },
          "execution_count": 165
        },
        {
          "output_type": "display_data",
          "data": {
            "image/png": "[encoded data removed]",
            "text/plain": [
              "<Figure size 432x288 with 1 Axes>"
            ]
          },
          "metadata": {
            "tags": []
          }
        }
      ]
    },
    {
      "cell_type": "code",
      "metadata": {
        "id": "zTcxD_nyhSQe",
        "colab_type": "code",
        "colab": {}
      },
      "source": [
        ""
      ],
      "execution_count": 0,
      "outputs": []
    }
  ]
}